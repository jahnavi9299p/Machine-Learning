{
 "cells": [
  {
   "cell_type": "code",
   "execution_count": 1,
   "metadata": {},
   "outputs": [],
   "source": [
    "import numpy as np\n",
    "import pandas as pd\n",
    "import matplotlib.pyplot as plt"
   ]
  },
  {
   "cell_type": "code",
   "execution_count": 2,
   "metadata": {},
   "outputs": [],
   "source": [
    "k=2\n",
    "cent_change=0.0001\n",
    "max_iter=300"
   ]
  },
  {
   "cell_type": "code",
   "execution_count": 3,
   "metadata": {},
   "outputs": [],
   "source": [
    "colors=3*['g','r','c','b','k','y']"
   ]
  },
  {
   "cell_type": "code",
   "execution_count": 30,
   "metadata": {},
   "outputs": [],
   "source": [
    "def fit(data,k,max_iter,tol):#data is x,y values\n",
    "    centroids={}\n",
    "    for i in range(k):\n",
    "        centroids[i]=data[i]\n",
    "        \n",
    "    for i in range(max_iter):\n",
    "        classifications={}\n",
    "        \n",
    "        for i in range(k):\n",
    "            classifications[i]=[]#for each centroid in dictionary an empty list is created\n",
    "                             #tuples of x and y describing datapoint stored in list\n",
    "        \n",
    "        for featureset in data:#featureset is x and y values\n",
    "            distances=[np.linalg.norm(featureset-centroids[centroid]) for centroid in centroids]\n",
    "            classification=distances.index(min(distances))\n",
    "            classifications[classification].append(featureset)\n",
    "        \n",
    "        #code for the shifting of centroid\n",
    "        prev_centroids=dict(centroids)\n",
    "\n",
    "        for classification in classifications:\n",
    "            centroids[classification]=np.average(classifications[classification],axis=0)\n",
    "        optimized=True\n",
    "\n",
    "        for c in centroids:\n",
    "            original_centroid=prev_centroids[c]\n",
    "            current_centroid=centroids[c]\n",
    "            if np.sum((current_centroid-original_centroid)/original_centroid*100.0)>tol:\n",
    "                optimized=False\n",
    "\n",
    "        if optimized:\n",
    "            break\n",
    "    return centroids,classifications"
   ]
  },
  {
   "cell_type": "code",
   "execution_count": 54,
   "metadata": {},
   "outputs": [],
   "source": [
    "def predict(data,centroids):\n",
    "    distances=[np.linalg.norm(data-centroids[centroid]) for centroid in centroids]\n",
    "    classification=distances.index(min(distances))\n",
    "    return classification"
   ]
  },
  {
   "cell_type": "code",
   "execution_count": 55,
   "metadata": {},
   "outputs": [],
   "source": [
    "# X=np.array([[1,2],\n",
    "#             [1.5,1.8],\n",
    "#             [5,8],\n",
    "#             [8,8],\n",
    "#             [1,0.6],\n",
    "#             [9,11]])"
   ]
  },
  {
   "cell_type": "code",
   "execution_count": 56,
   "metadata": {
    "scrolled": true
   },
   "outputs": [],
   "source": [
    "# plt.scatter(X[:,0],X[:,1],s=100)"
   ]
  },
  {
   "cell_type": "code",
   "execution_count": 57,
   "metadata": {},
   "outputs": [],
   "source": [
    "# centroids,classifications=fit(X,k,max_iter,cent_change)"
   ]
  },
  {
   "cell_type": "code",
   "execution_count": 58,
   "metadata": {
    "scrolled": true
   },
   "outputs": [],
   "source": [
    "# centroids"
   ]
  },
  {
   "cell_type": "code",
   "execution_count": 59,
   "metadata": {},
   "outputs": [],
   "source": [
    "# classifications"
   ]
  },
  {
   "cell_type": "code",
   "execution_count": 60,
   "metadata": {},
   "outputs": [],
   "source": [
    "# for class_1 in centroids:\n",
    "#     plt.scatter(centroids[class_1][0],centroids[class_1][1],marker='o',color='k',s=50)\n",
    "# for class_2 in classifications:\n",
    "#     print(class_2)\n",
    "#     for featureset in classifications[class_2]:\n",
    "#         plt.scatter(featureset[0],featureset[1],marker='.',s=50)\n",
    "\n",
    "# x_test=np.array([[1,3],\n",
    "#                  [8,9],\n",
    "#                  [0,3],\n",
    "#                  [5,4],\n",
    "#                  [6,4]])\n",
    "\n",
    "# for test in x_test:\n",
    "#     classification=predict(test,centroids)\n",
    "#     plt.scatter(test[0],test[1],marker='*')"
   ]
  },
  {
   "cell_type": "code",
   "execution_count": 61,
   "metadata": {},
   "outputs": [],
   "source": [
    "from sklearn.datasets import load_wine\n",
    "from sklearn.model_selection import train_test_split"
   ]
  },
  {
   "cell_type": "code",
   "execution_count": 62,
   "metadata": {},
   "outputs": [],
   "source": [
    "wine=load_wine()\n",
    "X=pd.DataFrame(wine.data,columns=wine.feature_names)"
   ]
  },
  {
   "cell_type": "code",
   "execution_count": 63,
   "metadata": {},
   "outputs": [],
   "source": [
    "x=(X-X.min())/(X.max()-X.min())"
   ]
  },
  {
   "cell_type": "code",
   "execution_count": 64,
   "metadata": {},
   "outputs": [],
   "source": [
    "xtrain,xtest=train_test_split(x,test_size=0.3)"
   ]
  },
  {
   "cell_type": "code",
   "execution_count": 65,
   "metadata": {},
   "outputs": [],
   "source": [
    "f1='hue'\n",
    "f2='proline'\n",
    "\n",
    "basex=np.array(xtrain[[f1,f2]])\n",
    "xtest=np.array(xtest[[f1,f2]])"
   ]
  },
  {
   "cell_type": "code",
   "execution_count": 66,
   "metadata": {},
   "outputs": [],
   "source": [
    " centroids,classifications=fit(basex,k,max_iter,cent_change)"
   ]
  },
  {
   "cell_type": "code",
   "execution_count": 67,
   "metadata": {},
   "outputs": [
    {
     "data": {
      "text/plain": [
       "{0: array([0.50058072, 0.66474424]), 1: array([0.35010505, 0.22546442])}"
      ]
     },
     "execution_count": 67,
     "metadata": {},
     "output_type": "execute_result"
    }
   ],
   "source": [
    "centroids"
   ]
  },
  {
   "cell_type": "code",
   "execution_count": 68,
   "metadata": {},
   "outputs": [
    {
     "data": {
      "text/plain": [
       "{0: [array([0.6097561, 1.       ]),\n",
       "  array([0.44715447, 0.64693295]),\n",
       "  array([0.52845528, 0.60770328]),\n",
       "  array([0.61788618, 0.70399429]),\n",
       "  array([0.4796748 , 0.55777461]),\n",
       "  array([0.62601626, 0.45435093]),\n",
       "  array([0.43902439, 0.71825963]),\n",
       "  array([0.6097561 , 0.50784593]),\n",
       "  array([0.35772358, 0.55777461]),\n",
       "  array([0.47154472, 0.7253923 ]),\n",
       "  array([0.55284553, 0.4700428 ]),\n",
       "  array([0.5203252 , 0.70042796]),\n",
       "  array([0.57723577, 0.71825963]),\n",
       "  array([0.51219512, 0.53994294]),\n",
       "  array([0.56910569, 0.52924394]),\n",
       "  array([0.4796748 , 0.70756063]),\n",
       "  array([0.52845528, 0.78245364]),\n",
       "  array([0.62601626, 0.68259629]),\n",
       "  array([0.4796748, 0.7146933]),\n",
       "  array([0.62601626, 0.62196862]),\n",
       "  array([0.40650407, 0.60057061]),\n",
       "  array([0.54471545, 0.74322397]),\n",
       "  array([0.58536585, 0.90513552]),\n",
       "  array([0.32520325, 0.58273894]),\n",
       "  array([0.3495935 , 0.53994294]),\n",
       "  array([0.49593496, 0.5256776 ]),\n",
       "  array([0.5203252 , 0.58987161]),\n",
       "  array([0.43089431, 0.65049929]),\n",
       "  array([0.33333333, 0.71825963]),\n",
       "  array([0.46341463, 0.83594864]),\n",
       "  array([0.31707317, 0.57203994]),\n",
       "  array([0.50406504, 0.58273894]),\n",
       "  array([0.6504065, 0.7360913]),\n",
       "  array([0.62601626, 0.87874465]),\n",
       "  array([0.30894309, 0.85734665])],\n",
       " 1: [array([0.25203252, 0.17261056]),\n",
       "  array([0.15447154, 0.42938659]),\n",
       "  array([0.10569106, 0.10485021]),\n",
       "  array([0.17886179, 0.35805991]),\n",
       "  array([0.3902439 , 0.28673324]),\n",
       "  array([0.20325203, 0.07275321]),\n",
       "  array([0.45528455, 0.20256776]),\n",
       "  array([0.05691057, 0.26533524]),\n",
       "  array([0.17886179, 0.2403709 ]),\n",
       "  array([0.24390244, 0.2296719 ]),\n",
       "  array([0.6097561, 0.2510699]),\n",
       "  array([0.30081301, 0.29743224]),\n",
       "  array([0.21138211, 0.33666191]),\n",
       "  array([0.47154472, 0.33666191]),\n",
       "  array([0.29268293, 0.16904422]),\n",
       "  array([0.09756098, 0.39372325]),\n",
       "  array([0.71544715, 0.20256776]),\n",
       "  array([0.20325203, 0.29743224]),\n",
       "  array([0.3902439 , 0.28673324]),\n",
       "  array([0.5203252 , 0.40442225]),\n",
       "  array([0.3495935 , 0.19400856]),\n",
       "  array([0.07317073, 0.24393723]),\n",
       "  array([0.52845528, 0.39372325]),\n",
       "  array([0.45528455, 0.45791726]),\n",
       "  array([0.17073171, 0.05278174]),\n",
       "  array([0.49593496, 0.35805991]),\n",
       "  array([0.55284553, 0.31098431]),\n",
       "  array([0.45528455, 0.32596291]),\n",
       "  array([0.21138211, 0.17974322]),\n",
       "  array([0.71544715, 0.09415121]),\n",
       "  array([0.45528455, 0.2724679 ]),\n",
       "  array([0.36585366, 0.20399429]),\n",
       "  array([0.76422764, 0.09129815]),\n",
       "  array([0.34634146, 0.42225392]),\n",
       "  array([0.6097561 , 0.10699001]),\n",
       "  array([0.07317073, 0.2724679 ]),\n",
       "  array([0.5203252 , 0.15977175]),\n",
       "  array([0.30894309, 0.02639087]),\n",
       "  array([0.43902439, 0.33666191]),\n",
       "  array([0.69105691, 0.15477889]),\n",
       "  array([0.06504065, 0.2831669 ]),\n",
       "  array([0.64227642, 0.30813124]),\n",
       "  array([0.22764228, 0.2510699 ]),\n",
       "  array([0.08943089, 0.15834522]),\n",
       "  array([0.39837398, 0.13409415]),\n",
       "  array([0.08130081, 0.09771755]),\n",
       "  array([0.15447154, 0.2510699 ]),\n",
       "  array([0.6097561 , 0.12268188]),\n",
       "  array([0.11382114, 0.2724679 ]),\n",
       "  array([0.08943089, 0.39728959]),\n",
       "  array([0.3495935, 0.5042796]),\n",
       "  array([0.60162602, 0.10128388]),\n",
       "  array([0.6097561 , 0.10699001]),\n",
       "  array([0.67479675, 0.2510699 ]),\n",
       "  array([0.34146341, 0.03352354]),\n",
       "  array([0.50406504, 0.11126961]),\n",
       "  array([0.33333333, 0.04564907]),\n",
       "  array([0.2601626 , 0.24750357]),\n",
       "  array([0.2195122 , 0.20256776]),\n",
       "  array([0.13821138, 0.41155492]),\n",
       "  array([0.27642276, 0.28673324]),\n",
       "  array([0.25203252, 0.21540656]),\n",
       "  array([0.30894309, 0.07132668]),\n",
       "  array([0.62601626, 0.28673324]),\n",
       "  array([0.49593496, 0.42938659]),\n",
       "  array([0.40650407, 0.13837375]),\n",
       "  array([0.        , 0.14407989]),\n",
       "  array([0.32520325, 0.14978602]),\n",
       "  array([0.07317073, 0.13694722]),\n",
       "  array([0.36585366, 0.13338088]),\n",
       "  array([0.33333333, 0.34379458]),\n",
       "  array([0.06504065, 0.17261056]),\n",
       "  array([0.4796748 , 0.24750357]),\n",
       "  array([0.33333333, 0.17261056]),\n",
       "  array([0.46341463, 0.17261056]),\n",
       "  array([0.19512195, 0.29029957]),\n",
       "  array([0.14634146, 0.20114123]),\n",
       "  array([0.5203252 , 0.16547789]),\n",
       "  array([0.33333333, 0.22253923]),\n",
       "  array([0.32520325, 0.43295292]),\n",
       "  array([0.36585366, 0.07631954]),\n",
       "  array([0.04878049, 0.24750357]),\n",
       "  array([0.37398374, 0.09771755]),\n",
       "  array([0.2601626 , 0.11412268]),\n",
       "  array([0.38211382, 0.24750357]),\n",
       "  array([1.        , 0.09201141]),\n",
       "  array([0.78861789, 0.05492154]),\n",
       "  array([0.2195122 , 0.26533524]),\n",
       "  array([0.27642276, 0.16904422])]}"
      ]
     },
     "execution_count": 68,
     "metadata": {},
     "output_type": "execute_result"
    }
   ],
   "source": [
    "classifications"
   ]
  },
  {
   "cell_type": "code",
   "execution_count": 69,
   "metadata": {},
   "outputs": [
    {
     "data": {
      "image/png": "[encoded data removed]",
      "text/plain": [
       "<Figure size 432x288 with 1 Axes>"
      ]
     },
     "metadata": {
      "needs_background": "light"
     },
     "output_type": "display_data"
    }
   ],
   "source": [
    "for centroid in centroids:\n",
    "    plt.scatter(centroids[class_1][0],centroids[class_1][1],marker='o',color='k',s=50)\n",
    "    \n",
    "for classification in classifications:\n",
    "    color=colors[classification]\n",
    "    \n",
    "    for next_datapoint in classifications[classification]:\n",
    "        plt.scatter(next_datapoint[0],next_datapoint[1],marker='.',color=color,s=50)\n",
    "        \n",
    "for test in xtest:\n",
    "    classification=predict(test,centroids)\n",
    "    plt.scatter(test[0],test[1],marker='*',color=colors[classification],s=100)"
   ]
  },
  {
   "cell_type": "code",
   "execution_count": null,
   "metadata": {},
   "outputs": [],
   "source": []
  }
 ],
 "metadata": {
  "kernelspec": {
   "display_name": "Python 3",
   "language": "python",
   "name": "python3"
  },
  "language_info": {
   "codemirror_mode": {
    "name": "ipython",
    "version": 3
   },
   "file_extension": ".py",
   "mimetype": "text/x-python",
   "name": "python",
   "nbconvert_exporter": "python",
   "pygments_lexer": "ipython3",
   "version": "3.7.1"
  }
 },
 "nbformat": 4,
 "nbformat_minor": 2
}
