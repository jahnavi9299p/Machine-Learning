{
 "cells": [
  {
   "cell_type": "code",
   "execution_count": 1,
   "metadata": {},
   "outputs": [],
   "source": [
    "def find_lcm(num1, num2): \n",
    "    if(num1>num2): \n",
    "        num = num1 \n",
    "        den = num2 \n",
    "    else: \n",
    "        num = num2 \n",
    "        den = num1 \n",
    "    rem = num % den \n",
    "    while(rem != 0): \n",
    "        num = den \n",
    "        den = rem \n",
    "        rem = num % den \n",
    "    gcd = den \n",
    "    lcm = int(int(num1 * num2)/int(gcd)) \n",
    "    return lcm "
   ]
  },
  {
   "cell_type": "code",
   "execution_count": 4,
   "metadata": {},
   "outputs": [],
   "source": [
    "def inst(l):\n",
    "    num1 = l[0] \n",
    "    num2 = l[1] \n",
    "    lcm = find_lcm(num1, num2)   \n",
    "    for i in range(2, len(l)): \n",
    "        lcm = find_lcm(lcm, l[i]) \n",
    "    return lcm"
   ]
  },
  {
   "cell_type": "code",
   "execution_count": 10,
   "metadata": {},
   "outputs": [],
   "source": [
    "def num(l,lcm):\n",
    "    a=0\n",
    "    for i in l:\n",
    "        a=a+(lcm/i)\n",
    "    print('{}/{} +'.format(a,lcm))"
   ]
  },
  {
   "cell_type": "code",
   "execution_count": 11,
   "metadata": {},
   "outputs": [],
   "source": [
    "def out(l):\n",
    "    for i in l:\n",
    "        if i != l[-1]:\n",
    "            print('1/{} +'.format(i),ends='')\n",
    "        else:\n",
    "            print('1/{} ='.format(i),ends='')"
   ]
  },
  {
   "cell_type": "code",
   "execution_count": 13,
   "metadata": {},
   "outputs": [],
   "source": [
    "def receive():\n",
    "    v=str\n",
    "    while v!='':\n",
    "        v=input()\n",
    "        l=list(map(int,input().split()))\n",
    "        lcm=inst(l)\n",
    "        out(l)\n",
    "        num(l,lcm)"
   ]
  },
  {
   "cell_type": "code",
   "execution_count": null,
   "metadata": {},
   "outputs": [],
   "source": []
  }
 ],
 "metadata": {
  "kernelspec": {
   "display_name": "Python 3",
   "language": "python",
   "name": "python3"
  },
  "language_info": {
   "codemirror_mode": {
    "name": "ipython",
    "version": 3
   },
   "file_extension": ".py",
   "mimetype": "text/x-python",
   "name": "python",
   "nbconvert_exporter": "python",
   "pygments_lexer": "ipython3",
   "version": "3.7.1"
  }
 },
 "nbformat": 4,
 "nbformat_minor": 2
}
